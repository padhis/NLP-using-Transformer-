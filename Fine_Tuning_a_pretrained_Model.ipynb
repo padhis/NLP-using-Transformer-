{
  "cells": [
    {
      "cell_type": "markdown",
      "metadata": {
        "id": "8Ffjzd-A8h09"
      },
      "source": [
        "# Loading a dataset"
      ]
    },
    {
      "cell_type": "code",
      "execution_count": null,
      "metadata": {
        "colab": {
          "base_uri": "https://localhost:8080/"
        },
        "id": "KdUqJAmqCHc2",
        "outputId": "b1fb263e-fee0-437e-c3b4-ea692ad19112"
      },
      "outputs": [
        {
          "name": "stderr",
          "output_type": "stream",
          "text": [
            "/usr/local/lib/python3.10/dist-packages/huggingface_hub/utils/_token.py:88: UserWarning: \n",
            "The secret `HF_TOKEN` does not exist in your Colab secrets.\n",
            "To authenticate with the Hugging Face Hub, create a token in your settings tab (https://huggingface.co/settings/tokens), set it as secret in your Google Colab and restart your session.\n",
            "You will be able to reuse this secret in all of your notebooks.\n",
            "Please note that authentication is recommended but still optional to access public models or datasets.\n",
            "  warnings.warn(\n"
          ]
        }
      ],
      "source": [
        "from transformers import AutoTokenizer\n",
        "\n",
        "tokenizer = AutoTokenizer.from_pretrained('bert-base-uncased')"
      ]
    },
    {
      "cell_type": "code",
      "execution_count": null,
      "metadata": {
        "colab": {
          "base_uri": "https://localhost:8080/"
        },
        "id": "S0X6Wx1687KG",
        "outputId": "025e881e-b086-4f9a-e6af-86fb95842777"
      },
      "outputs": [
        {
          "name": "stdout",
          "output_type": "stream",
          "text": [
            "Requirement already satisfied: datasets in /usr/local/lib/python3.10/dist-packages (2.16.1)\n",
            "Requirement already satisfied: filelock in /usr/local/lib/python3.10/dist-packages (from datasets) (3.13.1)\n",
            "Requirement already satisfied: numpy>=1.17 in /usr/local/lib/python3.10/dist-packages (from datasets) (1.23.5)\n",
            "Requirement already satisfied: pyarrow>=8.0.0 in /usr/local/lib/python3.10/dist-packages (from datasets) (10.0.1)\n",
            "Requirement already satisfied: pyarrow-hotfix in /usr/local/lib/python3.10/dist-packages (from datasets) (0.6)\n",
            "Requirement already satisfied: dill<0.3.8,>=0.3.0 in /usr/local/lib/python3.10/dist-packages (from datasets) (0.3.7)\n",
            "Requirement already satisfied: pandas in /usr/local/lib/python3.10/dist-packages (from datasets) (1.5.3)\n",
            "Requirement already satisfied: requests>=2.19.0 in /usr/local/lib/python3.10/dist-packages (from datasets) (2.31.0)\n",
            "Requirement already satisfied: tqdm>=4.62.1 in /usr/local/lib/python3.10/dist-packages (from datasets) (4.66.1)\n",
            "Requirement already satisfied: xxhash in /usr/local/lib/python3.10/dist-packages (from datasets) (3.4.1)\n",
            "Requirement already satisfied: multiprocess in /usr/local/lib/python3.10/dist-packages (from datasets) (0.70.15)\n",
            "Requirement already satisfied: fsspec[http]<=2023.10.0,>=2023.1.0 in /usr/local/lib/python3.10/dist-packages (from datasets) (2023.6.0)\n",
            "Requirement already satisfied: aiohttp in /usr/local/lib/python3.10/dist-packages (from datasets) (3.9.1)\n",
            "Requirement already satisfied: huggingface-hub>=0.19.4 in /usr/local/lib/python3.10/dist-packages (from datasets) (0.20.3)\n",
            "Requirement already satisfied: packaging in /usr/local/lib/python3.10/dist-packages (from datasets) (23.2)\n",
            "Requirement already satisfied: pyyaml>=5.1 in /usr/local/lib/python3.10/dist-packages (from datasets) (6.0.1)\n",
            "Requirement already satisfied: attrs>=17.3.0 in /usr/local/lib/python3.10/dist-packages (from aiohttp->datasets) (23.2.0)\n",
            "Requirement already satisfied: multidict<7.0,>=4.5 in /usr/local/lib/python3.10/dist-packages (from aiohttp->datasets) (6.0.4)\n",
            "Requirement already satisfied: yarl<2.0,>=1.0 in /usr/local/lib/python3.10/dist-packages (from aiohttp->datasets) (1.9.4)\n",
            "Requirement already satisfied: frozenlist>=1.1.1 in /usr/local/lib/python3.10/dist-packages (from aiohttp->datasets) (1.4.1)\n",
            "Requirement already satisfied: aiosignal>=1.1.2 in /usr/local/lib/python3.10/dist-packages (from aiohttp->datasets) (1.3.1)\n",
            "Requirement already satisfied: async-timeout<5.0,>=4.0 in /usr/local/lib/python3.10/dist-packages (from aiohttp->datasets) (4.0.3)\n",
            "Requirement already satisfied: typing-extensions>=3.7.4.3 in /usr/local/lib/python3.10/dist-packages (from huggingface-hub>=0.19.4->datasets) (4.5.0)\n",
            "Requirement already satisfied: charset-normalizer<4,>=2 in /usr/local/lib/python3.10/dist-packages (from requests>=2.19.0->datasets) (3.3.2)\n",
            "Requirement already satisfied: idna<4,>=2.5 in /usr/local/lib/python3.10/dist-packages (from requests>=2.19.0->datasets) (3.6)\n",
            "Requirement already satisfied: urllib3<3,>=1.21.1 in /usr/local/lib/python3.10/dist-packages (from requests>=2.19.0->datasets) (2.0.7)\n",
            "Requirement already satisfied: certifi>=2017.4.17 in /usr/local/lib/python3.10/dist-packages (from requests>=2.19.0->datasets) (2023.11.17)\n",
            "Requirement already satisfied: python-dateutil>=2.8.1 in /usr/local/lib/python3.10/dist-packages (from pandas->datasets) (2.8.2)\n",
            "Requirement already satisfied: pytz>=2020.1 in /usr/local/lib/python3.10/dist-packages (from pandas->datasets) (2023.3.post1)\n",
            "Requirement already satisfied: six>=1.5 in /usr/local/lib/python3.10/dist-packages (from python-dateutil>=2.8.1->pandas->datasets) (1.16.0)\n"
          ]
        }
      ],
      "source": [
        "!pip install datasets"
      ]
    },
    {
      "cell_type": "code",
      "execution_count": null,
      "metadata": {
        "colab": {
          "base_uri": "https://localhost:8080/"
        },
        "id": "N8xxlY3h8jql",
        "outputId": "6f710bac-ce59-463d-fe2b-1c5463ddf2ba"
      },
      "outputs": [
        {
          "data": {
            "text/plain": [
              "DatasetDict({\n",
              "    train: Dataset({\n",
              "        features: ['sentence1', 'sentence2', 'label', 'idx'],\n",
              "        num_rows: 3668\n",
              "    })\n",
              "    validation: Dataset({\n",
              "        features: ['sentence1', 'sentence2', 'label', 'idx'],\n",
              "        num_rows: 408\n",
              "    })\n",
              "    test: Dataset({\n",
              "        features: ['sentence1', 'sentence2', 'label', 'idx'],\n",
              "        num_rows: 1725\n",
              "    })\n",
              "})"
            ]
          },
          "execution_count": 3,
          "metadata": {},
          "output_type": "execute_result"
        }
      ],
      "source": [
        "from datasets import load_dataset\n",
        "\n",
        "raw_inputs = load_dataset('glue', 'mrpc')\n",
        "raw_inputs"
      ]
    },
    {
      "cell_type": "code",
      "execution_count": null,
      "metadata": {
        "colab": {
          "base_uri": "https://localhost:8080/"
        },
        "id": "MWDkFJCs8rsD",
        "outputId": "6439ffcb-2ea9-467c-eef1-4de6b2b65969"
      },
      "outputs": [
        {
          "data": {
            "text/plain": [
              "{'sentence1': 'Rudder was most recently senior vice president for the Developer & Platform Evangelism Business .',\n",
              " 'sentence2': 'Senior Vice President Eric Rudder , formerly head of the Developer and Platform Evangelism unit , will lead the new entity .',\n",
              " 'label': 0,\n",
              " 'idx': 16}"
            ]
          },
          "execution_count": 4,
          "metadata": {},
          "output_type": "execute_result"
        }
      ],
      "source": [
        "raw_inputs_train = raw_inputs['train']\n",
        "raw_inputs_train[15]"
      ]
    },
    {
      "cell_type": "code",
      "execution_count": null,
      "metadata": {
        "id": "9_8HW0saBWwM"
      },
      "outputs": [],
      "source": [
        "def tokenize_function(data):\n",
        "  return tokenizer(data['sentence1'], data['sentence2'], truncation = True)"
      ]
    },
    {
      "cell_type": "code",
      "execution_count": null,
      "metadata": {
        "colab": {
          "base_uri": "https://localhost:8080/",
          "height": 355,
          "referenced_widgets": [
            "f72e5b1069db4ecda49173c4f1146e12",
            "ed3de757865e49d090f893c7a2e221fc",
            "abfaaa6e80f04775ab710d878318c445",
            "ccac8bdf729f47ed803736e9e6dc24f2",
            "3d49ed3974a7478c9680ea5dcb30676c",
            "aec2eb90344f4abab2ebca80e67431d2",
            "bc30b0e36ee94d7182a2a5d41e36cb7b",
            "057a82a41357406c81eafb10ccb96939",
            "3954c9b0933647a0bfaa7eba2b0e7986",
            "5ae965a57acc4d289c096dcf9f54a4c1",
            "4e8f01f2d9ff4e07b4422fcbe06afb4d"
          ]
        },
        "id": "7V9oHp0uB980",
        "outputId": "56d0b1d0-986a-4707-a07f-d75a8c8ea2d1"
      },
      "outputs": [
        {
          "data": {
            "application/vnd.jupyter.widget-view+json": {
              "model_id": "f72e5b1069db4ecda49173c4f1146e12",
              "version_major": 2,
              "version_minor": 0
            },
            "text/plain": [
              "Map:   0%|          | 0/408 [00:00<?, ? examples/s]"
            ]
          },
          "metadata": {},
          "output_type": "display_data"
        },
        {
          "name": "stdout",
          "output_type": "stream",
          "text": [
            "DatasetDict({\n",
            "    train: Dataset({\n",
            "        features: ['sentence1', 'sentence2', 'label', 'idx', 'input_ids', 'token_type_ids', 'attention_mask'],\n",
            "        num_rows: 3668\n",
            "    })\n",
            "    validation: Dataset({\n",
            "        features: ['sentence1', 'sentence2', 'label', 'idx', 'input_ids', 'token_type_ids', 'attention_mask'],\n",
            "        num_rows: 408\n",
            "    })\n",
            "    test: Dataset({\n",
            "        features: ['sentence1', 'sentence2', 'label', 'idx', 'input_ids', 'token_type_ids', 'attention_mask'],\n",
            "        num_rows: 1725\n",
            "    })\n",
            "})\n"
          ]
        }
      ],
      "source": [
        "tokenized_dataset = raw_inputs.map(tokenize_function, batched = True)\n",
        "print(tokenized_dataset)"
      ]
    },
    {
      "cell_type": "code",
      "execution_count": null,
      "metadata": {
        "colab": {
          "base_uri": "https://localhost:8080/"
        },
        "id": "ScpfJNCMD8Ja",
        "outputId": "38502be4-0954-40db-9df4-135ed5f3cc16"
      },
      "outputs": [
        {
          "data": {
            "text/plain": [
              "[50, 59, 47, 67, 59, 50, 62, 32]"
            ]
          },
          "execution_count": 7,
          "metadata": {},
          "output_type": "execute_result"
        }
      ],
      "source": [
        "sample = tokenized_dataset['train'][:8]\n",
        "sample = {k: v for k, v  in sample.items() if k not in ['idx', 'sentence1', 'sentence2']}\n",
        "[len(x) for x in sample['input_ids']]"
      ]
    },
    {
      "cell_type": "markdown",
      "metadata": {
        "id": "JW_0TwS3CpEB"
      },
      "source": [
        "Note that the sequences length are not all equal. To make the length equal we have to do padding. This is where we use data collator which will pad each sequence to max_length of a sequence in a batch else it would have padded the sequence to max_length of the model"
      ]
    },
    {
      "cell_type": "code",
      "execution_count": null,
      "metadata": {
        "id": "lIJNRluOC8o7"
      },
      "outputs": [],
      "source": [
        "from transformers import DataCollatorWithPadding\n",
        "\n",
        "data_collator = DataCollatorWithPadding(tokenizer = tokenizer)"
      ]
    },
    {
      "cell_type": "markdown",
      "metadata": {
        "id": "Se_6ci1wDp7t"
      },
      "source": [
        "# Training"
      ]
    },
    {
      "cell_type": "code",
      "execution_count": null,
      "metadata": {
        "colab": {
          "base_uri": "https://localhost:8080/"
        },
        "id": "POP01X2ZEKOY",
        "outputId": "a1058aba-2b30-4e64-c154-63e2487344ee"
      },
      "outputs": [
        {
          "name": "stdout",
          "output_type": "stream",
          "text": [
            "Requirement already satisfied: transformers[torch] in /usr/local/lib/python3.10/dist-packages (4.35.2)\n",
            "Requirement already satisfied: filelock in /usr/local/lib/python3.10/dist-packages (from transformers[torch]) (3.13.1)\n",
            "Requirement already satisfied: huggingface-hub<1.0,>=0.16.4 in /usr/local/lib/python3.10/dist-packages (from transformers[torch]) (0.20.3)\n",
            "Requirement already satisfied: numpy>=1.17 in /usr/local/lib/python3.10/dist-packages (from transformers[torch]) (1.23.5)\n",
            "Requirement already satisfied: packaging>=20.0 in /usr/local/lib/python3.10/dist-packages (from transformers[torch]) (23.2)\n",
            "Requirement already satisfied: pyyaml>=5.1 in /usr/local/lib/python3.10/dist-packages (from transformers[torch]) (6.0.1)\n",
            "Requirement already satisfied: regex!=2019.12.17 in /usr/local/lib/python3.10/dist-packages (from transformers[torch]) (2023.6.3)\n",
            "Requirement already satisfied: requests in /usr/local/lib/python3.10/dist-packages (from transformers[torch]) (2.31.0)\n",
            "Requirement already satisfied: tokenizers<0.19,>=0.14 in /usr/local/lib/python3.10/dist-packages (from transformers[torch]) (0.15.1)\n",
            "Requirement already satisfied: safetensors>=0.3.1 in /usr/local/lib/python3.10/dist-packages (from transformers[torch]) (0.4.1)\n",
            "Requirement already satisfied: tqdm>=4.27 in /usr/local/lib/python3.10/dist-packages (from transformers[torch]) (4.66.1)\n",
            "Requirement already satisfied: torch!=1.12.0,>=1.10 in /usr/local/lib/python3.10/dist-packages (from transformers[torch]) (2.1.0+cu121)\n",
            "Collecting accelerate>=0.20.3 (from transformers[torch])\n",
            "  Downloading accelerate-0.26.1-py3-none-any.whl (270 kB)\n",
            "\u001b[2K     \u001b[90m━━━━━━━━━━━━━━━━━━━━━━━━━━━━━━━━━━━━━━━━\u001b[0m \u001b[32m270.9/270.9 kB\u001b[0m \u001b[31m1.9 MB/s\u001b[0m eta \u001b[36m0:00:00\u001b[0m\n",
            "\u001b[?25hRequirement already satisfied: psutil in /usr/local/lib/python3.10/dist-packages (from accelerate>=0.20.3->transformers[torch]) (5.9.5)\n",
            "Requirement already satisfied: fsspec>=2023.5.0 in /usr/local/lib/python3.10/dist-packages (from huggingface-hub<1.0,>=0.16.4->transformers[torch]) (2023.6.0)\n",
            "Requirement already satisfied: typing-extensions>=3.7.4.3 in /usr/local/lib/python3.10/dist-packages (from huggingface-hub<1.0,>=0.16.4->transformers[torch]) (4.5.0)\n",
            "Requirement already satisfied: sympy in /usr/local/lib/python3.10/dist-packages (from torch!=1.12.0,>=1.10->transformers[torch]) (1.12)\n",
            "Requirement already satisfied: networkx in /usr/local/lib/python3.10/dist-packages (from torch!=1.12.0,>=1.10->transformers[torch]) (3.2.1)\n",
            "Requirement already satisfied: jinja2 in /usr/local/lib/python3.10/dist-packages (from torch!=1.12.0,>=1.10->transformers[torch]) (3.1.3)\n",
            "Requirement already satisfied: triton==2.1.0 in /usr/local/lib/python3.10/dist-packages (from torch!=1.12.0,>=1.10->transformers[torch]) (2.1.0)\n",
            "Requirement already satisfied: charset-normalizer<4,>=2 in /usr/local/lib/python3.10/dist-packages (from requests->transformers[torch]) (3.3.2)\n",
            "Requirement already satisfied: idna<4,>=2.5 in /usr/local/lib/python3.10/dist-packages (from requests->transformers[torch]) (3.6)\n",
            "Requirement already satisfied: urllib3<3,>=1.21.1 in /usr/local/lib/python3.10/dist-packages (from requests->transformers[torch]) (2.0.7)\n",
            "Requirement already satisfied: certifi>=2017.4.17 in /usr/local/lib/python3.10/dist-packages (from requests->transformers[torch]) (2023.11.17)\n",
            "Requirement already satisfied: MarkupSafe>=2.0 in /usr/local/lib/python3.10/dist-packages (from jinja2->torch!=1.12.0,>=1.10->transformers[torch]) (2.1.4)\n",
            "Requirement already satisfied: mpmath>=0.19 in /usr/local/lib/python3.10/dist-packages (from sympy->torch!=1.12.0,>=1.10->transformers[torch]) (1.3.0)\n",
            "Installing collected packages: accelerate\n",
            "Successfully installed accelerate-0.26.1\n"
          ]
        }
      ],
      "source": [
        "!pip install transformers[torch]"
      ]
    },
    {
      "cell_type": "code",
      "execution_count": null,
      "metadata": {
        "id": "3Csjixx7ETkv"
      },
      "outputs": [],
      "source": [
        "pip install accelerate>=0.20.1 -U"
      ]
    },
    {
      "cell_type": "code",
      "execution_count": null,
      "metadata": {
        "id": "1kRfnR9dDgWt"
      },
      "outputs": [],
      "source": [
        "from transformers import TrainingArguments\n",
        "\n",
        "training_args = TrainingArguments('test_trainer')"
      ]
    },
    {
      "cell_type": "code",
      "execution_count": null,
      "metadata": {
        "colab": {
          "base_uri": "https://localhost:8080/",
          "height": 134,
          "referenced_widgets": [
            "9e084a74eaaf4e0ab814d7c3fe75e95c",
            "e724b2a6792a46ebb0c028fb4db01e14",
            "acdbfe67b74f495fa62df2b1e686e779",
            "acabea181715401a88a38614ec5d31f3",
            "8886dae232524fd88f9f47192904fa5d",
            "5a884d1b00fc46c098c0d4cf74e80de0",
            "e36b2cc2f12949d180a266302529e678",
            "0af8349d2deb4d0c838ee6c90850f6d1",
            "7907ce0e28d4493991046134a0b03919",
            "737d01a25108414fbccaf7207a60c295",
            "2276c7d79aae4ef99686900479ed51df"
          ]
        },
        "id": "itTZUQylEG56",
        "outputId": "b47adba9-6b0f-4bdb-9945-0da39b2e660e"
      },
      "outputs": [
        {
          "data": {
            "application/vnd.jupyter.widget-view+json": {
              "model_id": "9e084a74eaaf4e0ab814d7c3fe75e95c",
              "version_major": 2,
              "version_minor": 0
            },
            "text/plain": [
              "model.safetensors:   0%|          | 0.00/440M [00:00<?, ?B/s]"
            ]
          },
          "metadata": {},
          "output_type": "display_data"
        },
        {
          "name": "stderr",
          "output_type": "stream",
          "text": [
            "Some weights of BertForSequenceClassification were not initialized from the model checkpoint at bert-base-uncased and are newly initialized: ['classifier.weight', 'classifier.bias']\n",
            "You should probably TRAIN this model on a down-stream task to be able to use it for predictions and inference.\n"
          ]
        }
      ],
      "source": [
        "#Load the model\n",
        "from transformers import AutoModelForSequenceClassification\n",
        "\n",
        "model = AutoModelForSequenceClassification.from_pretrained('bert-base-uncased', num_labels = 2)"
      ]
    },
    {
      "cell_type": "code",
      "execution_count": null,
      "metadata": {
        "id": "52X2dj8PF8uE"
      },
      "outputs": [],
      "source": [
        "from transformers import Trainer\n",
        "\n",
        "trainer = Trainer(\n",
        "    model,\n",
        "    training_args,\n",
        "    train_dataset = tokenized_dataset['train'],\n",
        "    eval_dataset = tokenized_dataset['validation'],\n",
        "    data_collator = data_collator,\n",
        "    tokenizer = tokenizer\n",
        ")"
      ]
    },
    {
      "cell_type": "code",
      "execution_count": null,
      "metadata": {
        "colab": {
          "base_uri": "https://localhost:8080/",
          "height": 212
        },
        "id": "cMbalO5mGrHA",
        "outputId": "a1722cdd-610c-47e0-9883-06a1bdf90fd6"
      },
      "outputs": [
        {
          "data": {
            "text/html": [
              "\n",
              "    <div>\n",
              "      \n",
              "      <progress value='1377' max='1377' style='width:300px; height:20px; vertical-align: middle;'></progress>\n",
              "      [1377/1377 2:29:36, Epoch 3/3]\n",
              "    </div>\n",
              "    <table border=\"1\" class=\"dataframe\">\n",
              "  <thead>\n",
              " <tr style=\"text-align: left;\">\n",
              "      <th>Step</th>\n",
              "      <th>Training Loss</th>\n",
              "    </tr>\n",
              "  </thead>\n",
              "  <tbody>\n",
              "    <tr>\n",
              "      <td>500</td>\n",
              "      <td>0.213100</td>\n",
              "    </tr>\n",
              "    <tr>\n",
              "      <td>1000</td>\n",
              "      <td>0.123100</td>\n",
              "    </tr>\n",
              "  </tbody>\n",
              "</table><p>"
            ],
            "text/plain": [
              "<IPython.core.display.HTML object>"
            ]
          },
          "metadata": {},
          "output_type": "display_data"
        },
        {
          "data": {
            "text/plain": [
              "TrainOutput(global_step=1377, training_loss=0.13416728128448463, metrics={'train_runtime': 8983.137, 'train_samples_per_second': 1.225, 'train_steps_per_second': 0.153, 'total_flos': 406683358271520.0, 'train_loss': 0.13416728128448463, 'epoch': 3.0})"
            ]
          },
          "execution_count": 13,
          "metadata": {},
          "output_type": "execute_result"
        }
      ],
      "source": [
        "trainer.train()"
      ]
    },
    {
      "cell_type": "code",
      "execution_count": null,
      "metadata": {
        "colab": {
          "base_uri": "https://localhost:8080/",
          "height": 35
        },
        "id": "8tqEOpmJrWF3",
        "outputId": "bf0efb46-9ef1-4167-ace8-2c7482c50d73"
      },
      "outputs": [
        {
          "data": {
            "text/html": [],
            "text/plain": [
              "<IPython.core.display.HTML object>"
            ]
          },
          "metadata": {},
          "output_type": "display_data"
        },
        {
          "name": "stdout",
          "output_type": "stream",
          "text": [
            "(408, 2) (408,)\n"
          ]
        }
      ],
      "source": [
        "predictions = trainer.predict(tokenized_dataset['validation'])\n",
        "print(predictions.predictions.shape, predictions.label_ids.shape)"
      ]
    },
    {
      "cell_type": "code",
      "execution_count": null,
      "metadata": {
        "colab": {
          "base_uri": "https://localhost:8080/"
        },
        "id": "fD49jeMb3A2c",
        "outputId": "71873de7-02f8-45b5-88b4-6f44ee693602"
      },
      "outputs": [
        {
          "data": {
            "text/plain": [
              "PredictionOutput(predictions=array([[-3.5683422 ,  4.150214  ],\n",
              "       [ 2.851807  , -4.0160356 ],\n",
              "       [ 2.074573  , -3.379192  ],\n",
              "       [-3.5313087 ,  4.161585  ],\n",
              "       [ 2.6572866 , -3.7839472 ],\n",
              "       [-3.554834  ,  4.1609836 ],\n",
              "       [-3.3307338 ,  3.9971168 ],\n",
              "       [-3.5584419 ,  4.172943  ],\n",
              "       [-3.5170481 ,  4.1475677 ],\n",
              "       [-3.5825288 ,  4.154045  ],\n",
              "       [-3.5802784 ,  4.139841  ],\n",
              "       [ 2.283385  , -3.352879  ],\n",
              "       [ 2.8030677 , -3.8917937 ],\n",
              "       [-2.117405  ,  2.491846  ],\n",
              "       [-3.5818448 ,  4.141988  ],\n",
              "       [-0.13541499, -0.16523193],\n",
              "       [-3.573346  ,  4.1149244 ],\n",
              "       [ 1.842675  , -2.968649  ],\n",
              "       [-3.556928  ,  4.143878  ],\n",
              "       [ 2.8996062 , -3.8810153 ],\n",
              "       [ 2.9119985 , -3.950842  ],\n",
              "       [-2.948874  ,  3.5755363 ],\n",
              "       [ 2.9025478 , -3.6429043 ],\n",
              "       [-3.5586839 ,  4.152455  ],\n",
              "       [-3.4840345 ,  4.161509  ],\n",
              "       [-1.451178  ,  1.5113877 ],\n",
              "       [ 1.228164  , -1.4218638 ],\n",
              "       [-3.5743449 ,  4.1290555 ],\n",
              "       [-3.516592  ,  4.0785522 ],\n",
              "       [-3.5645204 ,  4.154811  ],\n",
              "       [ 2.2819686 , -3.2360358 ],\n",
              "       [-3.5452003 ,  4.152504  ],\n",
              "       [-3.4083633 ,  4.0713177 ],\n",
              "       [-3.5705743 ,  4.1530113 ],\n",
              "       [-3.5712514 ,  4.1383514 ],\n",
              "       [-2.7941182 ,  3.0179563 ],\n",
              "       [ 2.9095182 , -3.809699  ],\n",
              "       [ 2.613306  , -3.8322704 ],\n",
              "       [-3.4888253 ,  4.1253576 ],\n",
              "       [-3.587388  ,  4.1309094 ],\n",
              "       [-1.5244515 ,  1.5321853 ],\n",
              "       [-3.5501006 ,  4.1341515 ],\n",
              "       [ 2.4425073 , -3.434754  ],\n",
              "       [ 2.952118  , -3.928719  ],\n",
              "       [ 0.80597067, -1.1900879 ],\n",
              "       [-3.5630083 ,  4.1306624 ],\n",
              "       [-3.0209718 ,  3.6364086 ],\n",
              "       [ 2.006908  , -3.147662  ],\n",
              "       [-3.5684583 ,  4.157365  ],\n",
              "       [-3.4985194 ,  4.116575  ],\n",
              "       [-3.5063038 ,  4.11917   ],\n",
              "       [-3.4746866 ,  4.136942  ],\n",
              "       [-3.5520332 ,  4.161553  ],\n",
              "       [-3.585434  ,  4.152334  ],\n",
              "       [-3.5663188 ,  4.128253  ],\n",
              "       [-3.555945  ,  4.142115  ],\n",
              "       [-2.7443833 ,  3.3364997 ],\n",
              "       [-3.538572  ,  4.150078  ],\n",
              "       [-3.5573258 ,  4.1493015 ],\n",
              "       [-3.540413  ,  4.1457777 ],\n",
              "       [-3.4578662 ,  3.8622274 ],\n",
              "       [ 2.7611022 , -3.5561197 ],\n",
              "       [-3.5699587 ,  4.1595907 ],\n",
              "       [-3.5556123 ,  4.146847  ],\n",
              "       [-3.4918013 ,  4.160551  ],\n",
              "       [ 2.2041218 , -3.4933586 ],\n",
              "       [-3.5626035 ,  4.13585   ],\n",
              "       [-3.5841    ,  4.1560326 ],\n",
              "       [ 2.1779962 , -3.4006553 ],\n",
              "       [-3.5660453 ,  4.1693344 ],\n",
              "       [-3.5835013 ,  4.1345396 ],\n",
              "       [ 1.3901907 , -2.5350986 ],\n",
              "       [-3.5607247 ,  4.132806  ],\n",
              "       [-3.540577  ,  4.1453495 ],\n",
              "       [-3.384892  ,  4.0352287 ],\n",
              "       [-3.5089245 ,  4.168063  ],\n",
              "       [-3.5473137 ,  4.143282  ],\n",
              "       [-3.5682995 ,  4.1431923 ],\n",
              "       [-3.5492728 ,  4.0669336 ],\n",
              "       [-3.5976787 ,  4.1431694 ],\n",
              "       [-2.1860192 ,  2.7738984 ],\n",
              "       [-3.5357127 ,  4.1416674 ],\n",
              "       [-3.5606024 ,  4.1201844 ],\n",
              "       [ 2.8867192 , -3.8530211 ],\n",
              "       [-3.5589552 ,  4.134831  ],\n",
              "       [ 2.1990197 , -3.3209863 ],\n",
              "       [-3.3433921 ,  4.0576572 ],\n",
              "       [-3.4304576 ,  4.0575857 ],\n",
              "       [-3.5597346 ,  4.16088   ],\n",
              "       [-3.5913405 ,  4.12157   ],\n",
              "       [-3.3811693 ,  4.037058  ],\n",
              "       [-3.5327442 ,  4.129224  ],\n",
              "       [-3.5204365 ,  4.169065  ],\n",
              "       [-3.4736876 ,  4.1142125 ],\n",
              "       [-3.5427182 ,  4.138023  ],\n",
              "       [-3.5645058 ,  4.1308336 ],\n",
              "       [ 2.9223223 , -3.776814  ],\n",
              "       [-3.5183675 ,  4.13169   ],\n",
              "       [-3.5567145 ,  4.133124  ],\n",
              "       [-3.5248704 ,  4.139433  ],\n",
              "       [-3.5630622 ,  4.135664  ],\n",
              "       [-3.3773332 ,  3.9701395 ],\n",
              "       [-2.777648  ,  3.4417248 ],\n",
              "       [-3.5877576 ,  4.1456347 ],\n",
              "       [ 2.3618608 , -3.3187761 ],\n",
              "       [-3.582589  ,  4.1514754 ],\n",
              "       [-3.3077207 ,  3.97185   ],\n",
              "       [ 2.7101104 , -3.5679953 ],\n",
              "       [ 2.908382  , -3.902011  ],\n",
              "       [-3.5822577 ,  4.1482906 ],\n",
              "       [-3.455085  ,  4.1029305 ],\n",
              "       [-3.540338  ,  4.143029  ],\n",
              "       [-3.487361  ,  4.1114473 ],\n",
              "       [-3.5678606 ,  4.11265   ],\n",
              "       [-1.5512224 ,  2.1432724 ],\n",
              "       [ 2.8774736 , -3.972318  ],\n",
              "       [-3.5630624 ,  4.143216  ],\n",
              "       [-3.4965448 ,  4.126008  ],\n",
              "       [-3.580769  ,  4.1547394 ],\n",
              "       [-3.5754855 ,  4.156362  ],\n",
              "       [-3.577501  ,  4.1451592 ],\n",
              "       [-3.2098966 ,  3.9340773 ],\n",
              "       [ 2.944281  , -3.8855476 ],\n",
              "       [-3.5563807 ,  4.0457773 ],\n",
              "       [-3.5647194 ,  4.137836  ],\n",
              "       [-3.5609126 ,  4.1353455 ],\n",
              "       [-3.575853  ,  4.148169  ],\n",
              "       [ 2.8089733 , -3.937412  ],\n",
              "       [-3.578668  ,  4.1299567 ],\n",
              "       [-3.5687432 ,  4.142597  ],\n",
              "       [-3.5200996 ,  4.1401067 ],\n",
              "       [ 2.2890062 , -3.203487  ],\n",
              "       [-3.4964743 ,  4.164856  ],\n",
              "       [ 1.7685381 , -2.1056232 ],\n",
              "       [-2.9499443 ,  3.7098715 ],\n",
              "       [-3.497939  ,  4.1164646 ],\n",
              "       [-3.0790615 ,  3.796446  ],\n",
              "       [ 2.5704656 , -3.7637434 ],\n",
              "       [-3.5620556 ,  4.1489935 ],\n",
              "       [-3.543152  ,  4.170985  ],\n",
              "       [-3.5597608 ,  4.1506586 ],\n",
              "       [ 2.081873  , -3.0215325 ],\n",
              "       [ 2.9048538 , -4.041063  ],\n",
              "       [-3.5779128 ,  4.120812  ],\n",
              "       [ 2.7498891 , -3.9134822 ],\n",
              "       [-2.810369  ,  3.467802  ],\n",
              "       [-3.5673356 ,  4.123868  ],\n",
              "       [ 0.9707127 , -0.8430607 ],\n",
              "       [ 2.40127   , -2.986003  ],\n",
              "       [-3.5125694 ,  4.133222  ],\n",
              "       [ 2.8753061 , -3.9348094 ],\n",
              "       [-3.335212  ,  3.9702768 ],\n",
              "       [-2.955418  ,  3.5852437 ],\n",
              "       [-3.551048  ,  4.1454096 ],\n",
              "       [ 2.6801572 , -3.8364642 ],\n",
              "       [-3.52219   ,  4.1364574 ],\n",
              "       [-3.5599213 ,  4.1553454 ],\n",
              "       [-3.3373835 ,  4.003253  ],\n",
              "       [ 2.6527877 , -3.7426214 ],\n",
              "       [-3.5457458 ,  4.157443  ],\n",
              "       [-3.5496655 ,  4.143133  ],\n",
              "       [-3.5332963 ,  4.152674  ],\n",
              "       [-3.5640194 ,  4.142675  ],\n",
              "       [-3.5670047 ,  4.1471977 ],\n",
              "       [-3.5605195 ,  4.0791664 ],\n",
              "       [-3.5616891 ,  4.143944  ],\n",
              "       [-3.4988012 ,  4.1096544 ],\n",
              "       [ 1.3395902 , -1.7660471 ],\n",
              "       [-3.5509064 ,  4.1441464 ],\n",
              "       [ 2.6531801 , -3.7133665 ],\n",
              "       [-3.467801  ,  4.1386366 ],\n",
              "       [-3.1491046 ,  3.7309976 ],\n",
              "       [-3.2615314 ,  3.9080038 ],\n",
              "       [-3.4444413 ,  4.0700417 ],\n",
              "       [-3.138916  ,  3.6706262 ],\n",
              "       [-3.52854   ,  4.126406  ],\n",
              "       [-3.552554  ,  4.155196  ],\n",
              "       [ 2.8852806 , -3.996509  ],\n",
              "       [-3.559619  ,  4.164296  ],\n",
              "       [-3.5603032 ,  4.144804  ],\n",
              "       [-3.4267077 ,  4.0817976 ],\n",
              "       [ 0.46093005, -1.3127183 ],\n",
              "       [-3.5336723 ,  4.1536083 ],\n",
              "       [-3.5605488 ,  4.1508584 ],\n",
              "       [-3.4634204 ,  4.1097784 ],\n",
              "       [-3.1451578 ,  3.6737428 ],\n",
              "       [ 2.395516  , -3.475151  ],\n",
              "       [ 2.7198534 , -3.8161378 ],\n",
              "       [ 2.415551  , -2.722211  ],\n",
              "       [-3.5054245 ,  4.132615  ],\n",
              "       [-3.5536046 ,  4.127371  ],\n",
              "       [ 1.339677  , -2.1654828 ],\n",
              "       [-2.551366  ,  3.157409  ],\n",
              "       [-3.574397  ,  4.136505  ],\n",
              "       [-2.6195567 ,  3.125649  ],\n",
              "       [-3.4992592 ,  4.093256  ],\n",
              "       [-3.5614715 ,  4.1249056 ],\n",
              "       [-2.1901603 ,  2.4198236 ],\n",
              "       [-3.3321643 ,  3.801992  ],\n",
              "       [-3.5628395 ,  4.1471705 ],\n",
              "       [-3.5031    ,  4.1221275 ],\n",
              "       [-3.4354513 ,  4.13163   ],\n",
              "       [ 0.8199314 , -1.5248135 ],\n",
              "       [-3.5479271 ,  4.138038  ],\n",
              "       [-3.5436392 ,  4.1466136 ],\n",
              "       [ 2.7021747 , -3.8453422 ],\n",
              "       [-3.567564  ,  4.1474757 ],\n",
              "       [-3.413113  ,  4.084771  ],\n",
              "       [ 2.9788609 , -3.8543394 ],\n",
              "       [ 1.3654665 , -2.71519   ],\n",
              "       [-2.1075892 ,  2.441389  ],\n",
              "       [-3.4329472 ,  4.055507  ],\n",
              "       [-3.5895133 ,  4.1346498 ],\n",
              "       [ 2.992899  , -3.9909265 ],\n",
              "       [-3.5592642 ,  4.1176863 ],\n",
              "       [-3.5986166 ,  4.1349936 ],\n",
              "       [-3.544789  ,  4.158883  ],\n",
              "       [-3.1640587 ,  3.681472  ],\n",
              "       [ 2.575945  , -3.6022763 ],\n",
              "       [-3.4602187 ,  4.111064  ],\n",
              "       [-3.566351  ,  4.158409  ],\n",
              "       [ 1.3689032 , -2.2528303 ],\n",
              "       [-3.5680134 ,  4.127035  ],\n",
              "       [ 2.8315878 , -3.9694943 ],\n",
              "       [-3.553816  ,  4.1464148 ],\n",
              "       [-3.5598342 ,  4.1390886 ],\n",
              "       [-3.589408  ,  4.150855  ],\n",
              "       [-3.1451502 ,  3.8446894 ],\n",
              "       [-3.507203  ,  4.1210375 ],\n",
              "       [-3.5603883 ,  4.123907  ],\n",
              "       [-3.5873337 ,  4.1431675 ],\n",
              "       [-3.5859787 ,  4.1512794 ],\n",
              "       [ 2.8955438 , -3.6280057 ],\n",
              "       [ 2.7643428 , -3.856494  ],\n",
              "       [ 1.7202464 , -2.71592   ],\n",
              "       [-3.5747023 ,  4.046278  ],\n",
              "       [-3.3986936 ,  4.102233  ],\n",
              "       [ 2.5263705 , -3.609221  ],\n",
              "       [-3.4900753 ,  4.1381035 ],\n",
              "       [-1.858921  ,  1.9158739 ],\n",
              "       [-3.4866052 ,  4.1130295 ],\n",
              "       [ 2.856967  , -3.7735927 ],\n",
              "       [-3.4952488 ,  4.124196  ],\n",
              "       [-3.2359066 ,  3.9191175 ],\n",
              "       [-3.5908928 ,  4.1434193 ],\n",
              "       [-3.555488  ,  4.1163425 ],\n",
              "       [-3.5267806 ,  4.1328096 ],\n",
              "       [-3.3828957 ,  4.0375977 ],\n",
              "       [-3.5434055 ,  4.148405  ],\n",
              "       [-3.5048687 ,  4.122409  ],\n",
              "       [-3.5113857 ,  4.153634  ],\n",
              "       [ 2.36148   , -3.5102005 ],\n",
              "       [ 2.3489676 , -3.3010702 ],\n",
              "       [-3.5037823 ,  4.114025  ],\n",
              "       [ 2.792593  , -3.5033627 ],\n",
              "       [ 2.8650706 , -3.9647264 ],\n",
              "       [-3.5433946 ,  4.169482  ],\n",
              "       [-3.5075798 ,  4.079113  ],\n",
              "       [-3.570382  ,  4.140732  ],\n",
              "       [-1.0545666 ,  1.3728403 ],\n",
              "       [-3.5285225 ,  4.1536636 ],\n",
              "       [-3.570638  ,  4.162015  ],\n",
              "       [-3.570958  ,  4.1368656 ],\n",
              "       [-3.0611587 ,  3.7050009 ],\n",
              "       [-2.7371488 ,  3.4228141 ],\n",
              "       [-3.0577607 ,  3.6394536 ],\n",
              "       [-2.2640228 ,  2.8811905 ],\n",
              "       [ 2.7789426 , -3.6591346 ],\n",
              "       [-2.1221404 ,  2.705196  ],\n",
              "       [-3.494515  ,  4.111366  ],\n",
              "       [ 2.9589276 , -3.8560753 ],\n",
              "       [-3.5420659 ,  4.157224  ],\n",
              "       [-3.5748198 ,  4.126415  ],\n",
              "       [-3.5764503 ,  4.144595  ],\n",
              "       [-3.5675125 ,  4.147236  ],\n",
              "       [-3.5847201 ,  4.1437974 ],\n",
              "       [-3.560675  ,  4.1465545 ],\n",
              "       [-2.944295  ,  3.4984    ],\n",
              "       [-3.5421906 ,  4.131283  ],\n",
              "       [ 2.8526793 , -4.004402  ],\n",
              "       [-3.4999063 ,  4.141723  ],\n",
              "       [-2.819345  ,  3.354509  ],\n",
              "       [ 2.551005  , -3.5983202 ],\n",
              "       [ 2.9215894 , -3.7791996 ],\n",
              "       [ 2.1501284 , -3.08276   ],\n",
              "       [-3.5951266 ,  4.112888  ],\n",
              "       [-3.533796  ,  4.15566   ],\n",
              "       [-3.4996667 ,  4.1287704 ],\n",
              "       [-3.550498  ,  4.1197853 ],\n",
              "       [ 1.3524593 , -2.1682308 ],\n",
              "       [ 1.8712099 , -2.1994827 ],\n",
              "       [-0.56908965,  1.2900406 ],\n",
              "       [-3.5861201 ,  4.154868  ],\n",
              "       [-3.5570104 ,  4.1614127 ],\n",
              "       [-2.7110224 ,  3.1007018 ],\n",
              "       [ 2.5447512 , -3.6275601 ],\n",
              "       [ 2.7237303 , -3.5553088 ],\n",
              "       [-3.0264258 ,  3.6750782 ],\n",
              "       [-3.5531538 ,  4.1290145 ],\n",
              "       [-1.2759938 ,  2.2421458 ],\n",
              "       [-3.5587082 ,  4.140718  ],\n",
              "       [-3.5440903 ,  4.1580105 ],\n",
              "       [-3.489521  ,  4.108448  ],\n",
              "       [ 2.4952836 , -3.706674  ],\n",
              "       [-3.5651183 ,  4.1325293 ],\n",
              "       [-3.5627024 ,  4.1506014 ],\n",
              "       [ 2.9138513 , -4.0022974 ],\n",
              "       [-3.578615  ,  4.1430483 ],\n",
              "       [ 2.6878862 , -3.7014627 ],\n",
              "       [-3.559503  ,  4.1422625 ],\n",
              "       [-3.568608  ,  4.144663  ],\n",
              "       [-3.5661483 ,  4.1538143 ],\n",
              "       [-3.512788  ,  4.138868  ],\n",
              "       [ 2.8202922 , -3.9040892 ],\n",
              "       [-3.5654416 ,  4.135433  ],\n",
              "       [ 0.31562495, -0.54592997],\n",
              "       [-1.9711174 ,  2.1102333 ],\n",
              "       [-3.5929394 ,  4.1318474 ],\n",
              "       [ 2.8783493 , -3.8350728 ],\n",
              "       [ 2.489004  , -3.4776978 ],\n",
              "       [ 2.9379592 , -3.9561384 ],\n",
              "       [ 2.9624546 , -3.9876971 ],\n",
              "       [ 2.793386  , -3.9027832 ],\n",
              "       [-3.2498207 ,  3.9624758 ],\n",
              "       [ 2.2045217 , -3.3261814 ],\n",
              "       [-3.5773687 ,  4.1512775 ],\n",
              "       [-3.4947934 ,  4.178983  ],\n",
              "       [-3.5588572 ,  4.1197224 ],\n",
              "       [-3.5682347 ,  4.1568394 ],\n",
              "       [ 2.3890858 , -3.4653716 ],\n",
              "       [-3.5330405 ,  4.138282  ],\n",
              "       [-3.5582404 ,  4.1369247 ],\n",
              "       [-3.5558324 ,  4.1289463 ],\n",
              "       [-3.5023835 ,  4.151441  ],\n",
              "       [-3.5687294 ,  4.130297  ],\n",
              "       [-3.42412   ,  4.028787  ],\n",
              "       [-3.5838883 ,  4.1526594 ],\n",
              "       [-3.5488873 ,  4.1482267 ],\n",
              "       [-3.218909  ,  3.898928  ],\n",
              "       [-2.0525231 ,  2.1590638 ],\n",
              "       [-3.5337663 ,  4.1170607 ],\n",
              "       [-3.5538645 ,  4.1284103 ],\n",
              "       [ 2.868932  , -3.847263  ],\n",
              "       [ 2.2907152 , -3.4364262 ],\n",
              "       [-3.5659823 ,  4.150931  ],\n",
              "       [-3.564155  ,  4.144596  ],\n",
              "       [-3.60804   ,  4.1366186 ],\n",
              "       [-3.5485747 ,  4.1523933 ],\n",
              "       [-3.0779753 ,  3.7708533 ],\n",
              "       [-3.5844216 ,  4.1203413 ],\n",
              "       [ 2.5442154 , -3.5768733 ],\n",
              "       [-3.5459225 ,  4.1280537 ],\n",
              "       [-2.9802413 ,  3.6083891 ],\n",
              "       [-3.5104475 ,  4.1412907 ],\n",
              "       [ 1.4924291 , -2.775238  ],\n",
              "       [-1.5192243 ,  1.724569  ],\n",
              "       [-3.5564084 ,  4.157952  ],\n",
              "       [-3.2515206 ,  4.0099177 ],\n",
              "       [-3.5288596 ,  4.1082706 ],\n",
              "       [-3.5307322 ,  4.1360655 ],\n",
              "       [ 2.411106  , -3.2706027 ],\n",
              "       [-3.5699055 ,  4.137409  ],\n",
              "       [-3.5454154 ,  4.1208863 ],\n",
              "       [-2.8791115 ,  3.5091355 ],\n",
              "       [-3.526045  ,  4.1530848 ],\n",
              "       [-3.5197506 ,  4.1208925 ],\n",
              "       [-3.5757213 ,  4.1467896 ],\n",
              "       [-3.5311384 ,  4.1288304 ],\n",
              "       [ 2.833891  , -3.5473099 ],\n",
              "       [ 2.5644217 , -3.5547502 ],\n",
              "       [-1.850645  ,  2.0242953 ],\n",
              "       [-3.5840225 ,  4.1575594 ],\n",
              "       [-3.558774  ,  4.130498  ],\n",
              "       [-0.8527639 ,  0.85323733],\n",
              "       [ 2.81279   , -3.8865175 ],\n",
              "       [ 2.5377545 , -3.7239547 ],\n",
              "       [-2.628191  ,  3.1203995 ],\n",
              "       [ 2.8715148 , -3.8337126 ],\n",
              "       [-3.207007  ,  3.7365656 ],\n",
              "       [-3.5773952 ,  4.1372404 ],\n",
              "       [-3.0320985 ,  3.662347  ],\n",
              "       [-3.505095  ,  4.097494  ],\n",
              "       [-3.476707  ,  4.1167126 ],\n",
              "       [-3.555522  ,  4.143529  ],\n",
              "       [-3.5362897 ,  4.1573434 ],\n",
              "       [ 2.5610044 , -3.5748596 ],\n",
              "       [-3.4815097 ,  4.1100464 ],\n",
              "       [ 2.513786  , -3.082181  ],\n",
              "       [-3.5729806 ,  4.15508   ],\n",
              "       [-3.5050318 ,  4.147684  ],\n",
              "       [-3.5723171 ,  4.146496  ],\n",
              "       [-2.861774  ,  3.1220686 ],\n",
              "       [-3.5670767 ,  4.13797   ],\n",
              "       [-3.5235207 ,  4.1211686 ],\n",
              "       [-3.5616043 ,  4.148435  ],\n",
              "       [-3.4200697 ,  4.088285  ],\n",
              "       [-3.5740492 ,  4.1498065 ],\n",
              "       [-1.5800958 ,  2.2055883 ],\n",
              "       [-3.5684018 ,  4.142226  ],\n",
              "       [-3.5394423 ,  4.141574  ],\n",
              "       [ 2.5122986 , -3.70194   ],\n",
              "       [-3.5476642 ,  4.1650267 ],\n",
              "       [-3.395927  ,  4.089554  ],\n",
              "       [ 2.6541839 , -3.4496694 ],\n",
              "       [-3.2251148 ,  3.9055657 ],\n",
              "       [-3.5415688 ,  4.1275816 ],\n",
              "       [ 2.8960667 , -3.8332467 ],\n",
              "       [-3.5300965 ,  4.1201506 ]], dtype=float32), label_ids=array([1, 0, 0, 1, 0, 1, 0, 1, 1, 1, 1, 0, 0, 1, 1, 1, 1, 0, 1, 0, 0, 1,\n",
              "       0, 1, 1, 1, 0, 1, 1, 1, 0, 1, 1, 1, 1, 0, 0, 0, 1, 1, 0, 1, 0, 0,\n",
              "       0, 1, 1, 0, 1, 1, 1, 1, 1, 1, 1, 1, 1, 1, 1, 1, 0, 1, 1, 1, 1, 0,\n",
              "       1, 1, 0, 1, 1, 1, 1, 1, 1, 1, 0, 1, 1, 1, 0, 1, 1, 0, 1, 0, 1, 0,\n",
              "       1, 1, 0, 1, 1, 0, 1, 1, 0, 1, 1, 1, 1, 1, 1, 1, 0, 1, 1, 0, 0, 1,\n",
              "       1, 1, 1, 1, 0, 0, 1, 1, 1, 1, 1, 1, 0, 1, 1, 1, 1, 0, 1, 1, 1, 0,\n",
              "       1, 0, 1, 1, 0, 0, 1, 0, 1, 0, 0, 1, 0, 0, 1, 1, 1, 1, 0, 1, 1, 1,\n",
              "       1, 1, 1, 0, 0, 1, 1, 1, 1, 1, 1, 1, 1, 0, 1, 0, 0, 1, 1, 1, 0, 1,\n",
              "       1, 0, 1, 1, 0, 0, 1, 1, 0, 1, 0, 1, 0, 1, 1, 0, 1, 1, 0, 1, 1, 0,\n",
              "       1, 1, 1, 0, 1, 1, 1, 0, 1, 1, 1, 0, 0, 1, 1, 0, 1, 1, 1, 1, 0, 1,\n",
              "       1, 1, 1, 0, 1, 1, 1, 1, 1, 1, 1, 1, 1, 1, 1, 0, 1, 0, 1, 0, 1, 0,\n",
              "       1, 1, 1, 1, 1, 0, 1, 1, 1, 0, 1, 0, 1, 0, 1, 1, 1, 0, 1, 0, 1, 1,\n",
              "       0, 1, 1, 0, 0, 1, 0, 1, 1, 1, 1, 1, 1, 1, 1, 0, 1, 1, 1, 0, 0, 1,\n",
              "       1, 1, 1, 1, 1, 0, 1, 1, 1, 0, 0, 0, 1, 1, 1, 1, 1, 1, 1, 1, 0, 1,\n",
              "       0, 0, 0, 1, 1, 0, 1, 0, 1, 1, 0, 0, 0, 0, 0, 1, 0, 1, 0, 1, 1, 1,\n",
              "       1, 1, 0, 1, 1, 1, 1, 0, 0, 1, 1, 1, 0, 0, 1, 1, 1, 1, 0, 1, 0, 1,\n",
              "       0, 1, 0, 0, 1, 1, 1, 1, 0, 1, 1, 0, 1, 1, 0, 1, 0, 0, 1, 1, 1, 1,\n",
              "       0, 0, 0, 0, 1, 1, 1, 1, 0, 1, 1, 0, 1, 0, 1, 1, 1, 1, 1, 1, 1, 1,\n",
              "       1, 1, 1, 1, 0, 1, 1, 0, 1, 1, 0, 1]), metrics={'test_loss': 0.9558752179145813, 'test_runtime': 120.3287, 'test_samples_per_second': 3.391, 'test_steps_per_second': 0.424})"
            ]
          },
          "execution_count": 27,
          "metadata": {},
          "output_type": "execute_result"
        }
      ],
      "source": [
        "predictions"
      ]
    },
    {
      "cell_type": "code",
      "execution_count": null,
      "metadata": {
        "id": "Ai2Dp2Wj1uwt"
      },
      "outputs": [],
      "source": [
        "import numpy as np\n",
        "\n",
        "preds = np.argmax(predictions.predictions, axis = -1)"
      ]
    },
    {
      "cell_type": "code",
      "execution_count": null,
      "metadata": {
        "colab": {
          "base_uri": "https://localhost:8080/"
        },
        "id": "SAYNn9xO2Ul1",
        "outputId": "8f5fa852-0a1b-4a5e-b355-b7b3147b1837"
      },
      "outputs": [
        {
          "data": {
            "text/plain": [
              "array([1, 0, 0, 1, 0, 1, 1, 1, 1, 1, 1, 0, 0, 1, 1, 0, 1, 0, 1, 0, 0, 1,\n",
              "       0, 1, 1, 1, 0, 1, 1, 1, 0, 1, 1, 1, 1, 1, 0, 0, 1, 1, 1, 1, 0, 0,\n",
              "       0, 1, 1, 0, 1, 1, 1, 1, 1, 1, 1, 1, 1, 1, 1, 1, 1, 0, 1, 1, 1, 0,\n",
              "       1, 1, 0, 1, 1, 0, 1, 1, 1, 1, 1, 1, 1, 1, 1, 1, 1, 0, 1, 0, 1, 1,\n",
              "       1, 1, 1, 1, 1, 1, 1, 1, 0, 1, 1, 1, 1, 1, 1, 1, 0, 1, 1, 0, 0, 1,\n",
              "       1, 1, 1, 1, 1, 0, 1, 1, 1, 1, 1, 1, 0, 1, 1, 1, 1, 0, 1, 1, 1, 0,\n",
              "       1, 0, 1, 1, 1, 0, 1, 1, 1, 0, 0, 1, 0, 1, 1, 0, 0, 1, 0, 1, 1, 1,\n",
              "       0, 1, 1, 1, 0, 1, 1, 1, 1, 1, 1, 1, 1, 0, 1, 0, 1, 1, 1, 1, 1, 1,\n",
              "       1, 0, 1, 1, 1, 0, 1, 1, 1, 1, 0, 0, 0, 1, 1, 0, 1, 1, 1, 1, 1, 1,\n",
              "       1, 1, 1, 1, 0, 1, 1, 0, 1, 1, 0, 0, 1, 1, 1, 0, 1, 1, 1, 1, 0, 1,\n",
              "       1, 0, 1, 0, 1, 1, 1, 1, 1, 1, 1, 1, 0, 0, 0, 1, 1, 0, 1, 1, 1, 0,\n",
              "       1, 1, 1, 1, 1, 1, 1, 1, 1, 0, 0, 1, 0, 0, 1, 1, 1, 1, 1, 1, 1, 1,\n",
              "       1, 1, 1, 0, 1, 1, 0, 1, 1, 1, 1, 1, 1, 1, 1, 0, 1, 1, 0, 0, 0, 1,\n",
              "       1, 1, 1, 0, 0, 1, 1, 1, 1, 0, 0, 1, 1, 1, 1, 1, 1, 0, 1, 1, 0, 1,\n",
              "       0, 1, 1, 1, 1, 0, 1, 0, 1, 1, 0, 0, 0, 0, 0, 1, 0, 1, 1, 1, 1, 0,\n",
              "       1, 1, 1, 1, 1, 1, 1, 1, 1, 1, 1, 1, 0, 0, 1, 1, 1, 1, 1, 1, 0, 1,\n",
              "       1, 1, 0, 1, 1, 1, 1, 1, 0, 1, 1, 1, 1, 1, 1, 1, 0, 0, 1, 1, 1, 1,\n",
              "       0, 0, 1, 0, 1, 1, 1, 1, 1, 1, 1, 0, 1, 0, 1, 1, 1, 1, 1, 1, 1, 1,\n",
              "       1, 1, 1, 1, 0, 1, 1, 0, 1, 1, 0, 1])"
            ]
          },
          "execution_count": 26,
          "metadata": {},
          "output_type": "execute_result"
        }
      ],
      "source": [
        "preds"
      ]
    },
    {
      "cell_type": "code",
      "execution_count": null,
      "metadata": {
        "id": "2atSlk_s2-8y"
      },
      "outputs": [],
      "source": [
        "\n",
        "import numpy as np\n",
        "\n",
        "def compute_metrics(eval_preds):\n",
        "  metric = evaluate.load('glue', 'mrpc')\n",
        "  logits, labels = eval_preds\n",
        "  predictions = np.argmax(logits, axis = -1)\n",
        "  return metric.compute(predictions = predictions, references = labels)"
      ]
    },
    {
      "cell_type": "code",
      "execution_count": null,
      "metadata": {
        "id": "IJKmRXoQ7_6I"
      },
      "outputs": [],
      "source": [
        "metric = evaluate.load('glue', 'mrpc')\n",
        "metric.compute(predictions = preds, references = predictions.label_ids)"
      ]
    },
    {
      "cell_type": "code",
      "execution_count": null,
      "metadata": {
        "id": "npTF5M2VIJ4E"
      },
      "outputs": [],
      "source": []
    }
  ],
  "metadata": {
    "accelerator": "TPU",
    "colab": {
      "provenance": []
    },
    "kernelspec": {
      "display_name": "Python 3",
      "name": "python3"
    },
    "language_info": {
      "name": "python"
    },
    "widgets": {
      "application/vnd.jupyter.widget-state+json": {
        "057a82a41357406c81eafb10ccb96939": {
          "model_module": "@jupyter-widgets/base",
          "model_module_version": "1.2.0",
          "model_name": "LayoutModel",
          "state": {
            "_model_module": "@jupyter-widgets/base",
            "_model_module_version": "1.2.0",
            "_model_name": "LayoutModel",
            "_view_count": null,
            "_view_module": "@jupyter-widgets/base",
            "_view_module_version": "1.2.0",
            "_view_name": "LayoutView",
            "align_content": null,
            "align_items": null,
            "align_self": null,
            "border": null,
            "bottom": null,
            "display": null,
            "flex": null,
            "flex_flow": null,
            "grid_area": null,
            "grid_auto_columns": null,
            "grid_auto_flow": null,
            "grid_auto_rows": null,
            "grid_column": null,
            "grid_gap": null,
            "grid_row": null,
            "grid_template_areas": null,
            "grid_template_columns": null,
            "grid_template_rows": null,
            "height": null,
            "justify_content": null,
            "justify_items": null,
            "left": null,
            "margin": null,
            "max_height": null,
            "max_width": null,
            "min_height": null,
            "min_width": null,
            "object_fit": null,
            "object_position": null,
            "order": null,
            "overflow": null,
            "overflow_x": null,
            "overflow_y": null,
            "padding": null,
            "right": null,
            "top": null,
            "visibility": null,
            "width": null
          }
        },
        "0af8349d2deb4d0c838ee6c90850f6d1": {
          "model_module": "@jupyter-widgets/base",
          "model_module_version": "1.2.0",
          "model_name": "LayoutModel",
          "state": {
            "_model_module": "@jupyter-widgets/base",
            "_model_module_version": "1.2.0",
            "_model_name": "LayoutModel",
            "_view_count": null,
            "_view_module": "@jupyter-widgets/base",
            "_view_module_version": "1.2.0",
            "_view_name": "LayoutView",
            "align_content": null,
            "align_items": null,
            "align_self": null,
            "border": null,
            "bottom": null,
            "display": null,
            "flex": null,
            "flex_flow": null,
            "grid_area": null,
            "grid_auto_columns": null,
            "grid_auto_flow": null,
            "grid_auto_rows": null,
            "grid_column": null,
            "grid_gap": null,
            "grid_row": null,
            "grid_template_areas": null,
            "grid_template_columns": null,
            "grid_template_rows": null,
            "height": null,
            "justify_content": null,
            "justify_items": null,
            "left": null,
            "margin": null,
            "max_height": null,
            "max_width": null,
            "min_height": null,
            "min_width": null,
            "object_fit": null,
            "object_position": null,
            "order": null,
            "overflow": null,
            "overflow_x": null,
            "overflow_y": null,
            "padding": null,
            "right": null,
            "top": null,
            "visibility": null,
            "width": null
          }
        },
        "2276c7d79aae4ef99686900479ed51df": {
          "model_module": "@jupyter-widgets/controls",
          "model_module_version": "1.5.0",
          "model_name": "DescriptionStyleModel",
          "state": {
            "_model_module": "@jupyter-widgets/controls",
            "_model_module_version": "1.5.0",
            "_model_name": "DescriptionStyleModel",
            "_view_count": null,
            "_view_module": "@jupyter-widgets/base",
            "_view_module_version": "1.2.0",
            "_view_name": "StyleView",
            "description_width": ""
          }
        },
        "3954c9b0933647a0bfaa7eba2b0e7986": {
          "model_module": "@jupyter-widgets/controls",
          "model_module_version": "1.5.0",
          "model_name": "ProgressStyleModel",
          "state": {
            "_model_module": "@jupyter-widgets/controls",
            "_model_module_version": "1.5.0",
            "_model_name": "ProgressStyleModel",
            "_view_count": null,
            "_view_module": "@jupyter-widgets/base",
            "_view_module_version": "1.2.0",
            "_view_name": "StyleView",
            "bar_color": null,
            "description_width": ""
          }
        },
        "3d49ed3974a7478c9680ea5dcb30676c": {
          "model_module": "@jupyter-widgets/base",
          "model_module_version": "1.2.0",
          "model_name": "LayoutModel",
          "state": {
            "_model_module": "@jupyter-widgets/base",
            "_model_module_version": "1.2.0",
            "_model_name": "LayoutModel",
            "_view_count": null,
            "_view_module": "@jupyter-widgets/base",
            "_view_module_version": "1.2.0",
            "_view_name": "LayoutView",
            "align_content": null,
            "align_items": null,
            "align_self": null,
            "border": null,
            "bottom": null,
            "display": null,
            "flex": null,
            "flex_flow": null,
            "grid_area": null,
            "grid_auto_columns": null,
            "grid_auto_flow": null,
            "grid_auto_rows": null,
            "grid_column": null,
            "grid_gap": null,
            "grid_row": null,
            "grid_template_areas": null,
            "grid_template_columns": null,
            "grid_template_rows": null,
            "height": null,
            "justify_content": null,
            "justify_items": null,
            "left": null,
            "margin": null,
            "max_height": null,
            "max_width": null,
            "min_height": null,
            "min_width": null,
            "object_fit": null,
            "object_position": null,
            "order": null,
            "overflow": null,
            "overflow_x": null,
            "overflow_y": null,
            "padding": null,
            "right": null,
            "top": null,
            "visibility": null,
            "width": null
          }
        },
        "4e8f01f2d9ff4e07b4422fcbe06afb4d": {
          "model_module": "@jupyter-widgets/controls",
          "model_module_version": "1.5.0",
          "model_name": "DescriptionStyleModel",
          "state": {
            "_model_module": "@jupyter-widgets/controls",
            "_model_module_version": "1.5.0",
            "_model_name": "DescriptionStyleModel",
            "_view_count": null,
            "_view_module": "@jupyter-widgets/base",
            "_view_module_version": "1.2.0",
            "_view_name": "StyleView",
            "description_width": ""
          }
        },
        "5a884d1b00fc46c098c0d4cf74e80de0": {
          "model_module": "@jupyter-widgets/base",
          "model_module_version": "1.2.0",
          "model_name": "LayoutModel",
          "state": {
            "_model_module": "@jupyter-widgets/base",
            "_model_module_version": "1.2.0",
            "_model_name": "LayoutModel",
            "_view_count": null,
            "_view_module": "@jupyter-widgets/base",
            "_view_module_version": "1.2.0",
            "_view_name": "LayoutView",
            "align_content": null,
            "align_items": null,
            "align_self": null,
            "border": null,
            "bottom": null,
            "display": null,
            "flex": null,
            "flex_flow": null,
            "grid_area": null,
            "grid_auto_columns": null,
            "grid_auto_flow": null,
            "grid_auto_rows": null,
            "grid_column": null,
            "grid_gap": null,
            "grid_row": null,
            "grid_template_areas": null,
            "grid_template_columns": null,
            "grid_template_rows": null,
            "height": null,
            "justify_content": null,
            "justify_items": null,
            "left": null,
            "margin": null,
            "max_height": null,
            "max_width": null,
            "min_height": null,
            "min_width": null,
            "object_fit": null,
            "object_position": null,
            "order": null,
            "overflow": null,
            "overflow_x": null,
            "overflow_y": null,
            "padding": null,
            "right": null,
            "top": null,
            "visibility": null,
            "width": null
          }
        },
        "5ae965a57acc4d289c096dcf9f54a4c1": {
          "model_module": "@jupyter-widgets/base",
          "model_module_version": "1.2.0",
          "model_name": "LayoutModel",
          "state": {
            "_model_module": "@jupyter-widgets/base",
            "_model_module_version": "1.2.0",
            "_model_name": "LayoutModel",
            "_view_count": null,
            "_view_module": "@jupyter-widgets/base",
            "_view_module_version": "1.2.0",
            "_view_name": "LayoutView",
            "align_content": null,
            "align_items": null,
            "align_self": null,
            "border": null,
            "bottom": null,
            "display": null,
            "flex": null,
            "flex_flow": null,
            "grid_area": null,
            "grid_auto_columns": null,
            "grid_auto_flow": null,
            "grid_auto_rows": null,
            "grid_column": null,
            "grid_gap": null,
            "grid_row": null,
            "grid_template_areas": null,
            "grid_template_columns": null,
            "grid_template_rows": null,
            "height": null,
            "justify_content": null,
            "justify_items": null,
            "left": null,
            "margin": null,
            "max_height": null,
            "max_width": null,
            "min_height": null,
            "min_width": null,
            "object_fit": null,
            "object_position": null,
            "order": null,
            "overflow": null,
            "overflow_x": null,
            "overflow_y": null,
            "padding": null,
            "right": null,
            "top": null,
            "visibility": null,
            "width": null
          }
        },
        "737d01a25108414fbccaf7207a60c295": {
          "model_module": "@jupyter-widgets/base",
          "model_module_version": "1.2.0",
          "model_name": "LayoutModel",
          "state": {
            "_model_module": "@jupyter-widgets/base",
            "_model_module_version": "1.2.0",
            "_model_name": "LayoutModel",
            "_view_count": null,
            "_view_module": "@jupyter-widgets/base",
            "_view_module_version": "1.2.0",
            "_view_name": "LayoutView",
            "align_content": null,
            "align_items": null,
            "align_self": null,
            "border": null,
            "bottom": null,
            "display": null,
            "flex": null,
            "flex_flow": null,
            "grid_area": null,
            "grid_auto_columns": null,
            "grid_auto_flow": null,
            "grid_auto_rows": null,
            "grid_column": null,
            "grid_gap": null,
            "grid_row": null,
            "grid_template_areas": null,
            "grid_template_columns": null,
            "grid_template_rows": null,
            "height": null,
            "justify_content": null,
            "justify_items": null,
            "left": null,
            "margin": null,
            "max_height": null,
            "max_width": null,
            "min_height": null,
            "min_width": null,
            "object_fit": null,
            "object_position": null,
            "order": null,
            "overflow": null,
            "overflow_x": null,
            "overflow_y": null,
            "padding": null,
            "right": null,
            "top": null,
            "visibility": null,
            "width": null
          }
        },
        "7907ce0e28d4493991046134a0b03919": {
          "model_module": "@jupyter-widgets/controls",
          "model_module_version": "1.5.0",
          "model_name": "ProgressStyleModel",
          "state": {
            "_model_module": "@jupyter-widgets/controls",
            "_model_module_version": "1.5.0",
            "_model_name": "ProgressStyleModel",
            "_view_count": null,
            "_view_module": "@jupyter-widgets/base",
            "_view_module_version": "1.2.0",
            "_view_name": "StyleView",
            "bar_color": null,
            "description_width": ""
          }
        },
        "8886dae232524fd88f9f47192904fa5d": {
          "model_module": "@jupyter-widgets/base",
          "model_module_version": "1.2.0",
          "model_name": "LayoutModel",
          "state": {
            "_model_module": "@jupyter-widgets/base",
            "_model_module_version": "1.2.0",
            "_model_name": "LayoutModel",
            "_view_count": null,
            "_view_module": "@jupyter-widgets/base",
            "_view_module_version": "1.2.0",
            "_view_name": "LayoutView",
            "align_content": null,
            "align_items": null,
            "align_self": null,
            "border": null,
            "bottom": null,
            "display": null,
            "flex": null,
            "flex_flow": null,
            "grid_area": null,
            "grid_auto_columns": null,
            "grid_auto_flow": null,
            "grid_auto_rows": null,
            "grid_column": null,
            "grid_gap": null,
            "grid_row": null,
            "grid_template_areas": null,
            "grid_template_columns": null,
            "grid_template_rows": null,
            "height": null,
            "justify_content": null,
            "justify_items": null,
            "left": null,
            "margin": null,
            "max_height": null,
            "max_width": null,
            "min_height": null,
            "min_width": null,
            "object_fit": null,
            "object_position": null,
            "order": null,
            "overflow": null,
            "overflow_x": null,
            "overflow_y": null,
            "padding": null,
            "right": null,
            "top": null,
            "visibility": null,
            "width": null
          }
        },
        "9e084a74eaaf4e0ab814d7c3fe75e95c": {
          "model_module": "@jupyter-widgets/controls",
          "model_module_version": "1.5.0",
          "model_name": "HBoxModel",
          "state": {
            "_dom_classes": [],
            "_model_module": "@jupyter-widgets/controls",
            "_model_module_version": "1.5.0",
            "_model_name": "HBoxModel",
            "_view_count": null,
            "_view_module": "@jupyter-widgets/controls",
            "_view_module_version": "1.5.0",
            "_view_name": "HBoxView",
            "box_style": "",
            "children": [
              "IPY_MODEL_e724b2a6792a46ebb0c028fb4db01e14",
              "IPY_MODEL_acdbfe67b74f495fa62df2b1e686e779",
              "IPY_MODEL_acabea181715401a88a38614ec5d31f3"
            ],
            "layout": "IPY_MODEL_8886dae232524fd88f9f47192904fa5d"
          }
        },
        "abfaaa6e80f04775ab710d878318c445": {
          "model_module": "@jupyter-widgets/controls",
          "model_module_version": "1.5.0",
          "model_name": "FloatProgressModel",
          "state": {
            "_dom_classes": [],
            "_model_module": "@jupyter-widgets/controls",
            "_model_module_version": "1.5.0",
            "_model_name": "FloatProgressModel",
            "_view_count": null,
            "_view_module": "@jupyter-widgets/controls",
            "_view_module_version": "1.5.0",
            "_view_name": "ProgressView",
            "bar_style": "success",
            "description": "",
            "description_tooltip": null,
            "layout": "IPY_MODEL_057a82a41357406c81eafb10ccb96939",
            "max": 408,
            "min": 0,
            "orientation": "horizontal",
            "style": "IPY_MODEL_3954c9b0933647a0bfaa7eba2b0e7986",
            "value": 408
          }
        },
        "acabea181715401a88a38614ec5d31f3": {
          "model_module": "@jupyter-widgets/controls",
          "model_module_version": "1.5.0",
          "model_name": "HTMLModel",
          "state": {
            "_dom_classes": [],
            "_model_module": "@jupyter-widgets/controls",
            "_model_module_version": "1.5.0",
            "_model_name": "HTMLModel",
            "_view_count": null,
            "_view_module": "@jupyter-widgets/controls",
            "_view_module_version": "1.5.0",
            "_view_name": "HTMLView",
            "description": "",
            "description_tooltip": null,
            "layout": "IPY_MODEL_737d01a25108414fbccaf7207a60c295",
            "placeholder": "​",
            "style": "IPY_MODEL_2276c7d79aae4ef99686900479ed51df",
            "value": " 440M/440M [00:05&lt;00:00, 69.3MB/s]"
          }
        },
        "acdbfe67b74f495fa62df2b1e686e779": {
          "model_module": "@jupyter-widgets/controls",
          "model_module_version": "1.5.0",
          "model_name": "FloatProgressModel",
          "state": {
            "_dom_classes": [],
            "_model_module": "@jupyter-widgets/controls",
            "_model_module_version": "1.5.0",
            "_model_name": "FloatProgressModel",
            "_view_count": null,
            "_view_module": "@jupyter-widgets/controls",
            "_view_module_version": "1.5.0",
            "_view_name": "ProgressView",
            "bar_style": "success",
            "description": "",
            "description_tooltip": null,
            "layout": "IPY_MODEL_0af8349d2deb4d0c838ee6c90850f6d1",
            "max": 440449768,
            "min": 0,
            "orientation": "horizontal",
            "style": "IPY_MODEL_7907ce0e28d4493991046134a0b03919",
            "value": 440449768
          }
        },
        "aec2eb90344f4abab2ebca80e67431d2": {
          "model_module": "@jupyter-widgets/base",
          "model_module_version": "1.2.0",
          "model_name": "LayoutModel",
          "state": {
            "_model_module": "@jupyter-widgets/base",
            "_model_module_version": "1.2.0",
            "_model_name": "LayoutModel",
            "_view_count": null,
            "_view_module": "@jupyter-widgets/base",
            "_view_module_version": "1.2.0",
            "_view_name": "LayoutView",
            "align_content": null,
            "align_items": null,
            "align_self": null,
            "border": null,
            "bottom": null,
            "display": null,
            "flex": null,
            "flex_flow": null,
            "grid_area": null,
            "grid_auto_columns": null,
            "grid_auto_flow": null,
            "grid_auto_rows": null,
            "grid_column": null,
            "grid_gap": null,
            "grid_row": null,
            "grid_template_areas": null,
            "grid_template_columns": null,
            "grid_template_rows": null,
            "height": null,
            "justify_content": null,
            "justify_items": null,
            "left": null,
            "margin": null,
            "max_height": null,
            "max_width": null,
            "min_height": null,
            "min_width": null,
            "object_fit": null,
            "object_position": null,
            "order": null,
            "overflow": null,
            "overflow_x": null,
            "overflow_y": null,
            "padding": null,
            "right": null,
            "top": null,
            "visibility": null,
            "width": null
          }
        },
        "bc30b0e36ee94d7182a2a5d41e36cb7b": {
          "model_module": "@jupyter-widgets/controls",
          "model_module_version": "1.5.0",
          "model_name": "DescriptionStyleModel",
          "state": {
            "_model_module": "@jupyter-widgets/controls",
            "_model_module_version": "1.5.0",
            "_model_name": "DescriptionStyleModel",
            "_view_count": null,
            "_view_module": "@jupyter-widgets/base",
            "_view_module_version": "1.2.0",
            "_view_name": "StyleView",
            "description_width": ""
          }
        },
        "ccac8bdf729f47ed803736e9e6dc24f2": {
          "model_module": "@jupyter-widgets/controls",
          "model_module_version": "1.5.0",
          "model_name": "HTMLModel",
          "state": {
            "_dom_classes": [],
            "_model_module": "@jupyter-widgets/controls",
            "_model_module_version": "1.5.0",
            "_model_name": "HTMLModel",
            "_view_count": null,
            "_view_module": "@jupyter-widgets/controls",
            "_view_module_version": "1.5.0",
            "_view_name": "HTMLView",
            "description": "",
            "description_tooltip": null,
            "layout": "IPY_MODEL_5ae965a57acc4d289c096dcf9f54a4c1",
            "placeholder": "​",
            "style": "IPY_MODEL_4e8f01f2d9ff4e07b4422fcbe06afb4d",
            "value": " 408/408 [00:00&lt;00:00, 2747.97 examples/s]"
          }
        },
        "e36b2cc2f12949d180a266302529e678": {
          "model_module": "@jupyter-widgets/controls",
          "model_module_version": "1.5.0",
          "model_name": "DescriptionStyleModel",
          "state": {
            "_model_module": "@jupyter-widgets/controls",
            "_model_module_version": "1.5.0",
            "_model_name": "DescriptionStyleModel",
            "_view_count": null,
            "_view_module": "@jupyter-widgets/base",
            "_view_module_version": "1.2.0",
            "_view_name": "StyleView",
            "description_width": ""
          }
        },
        "e724b2a6792a46ebb0c028fb4db01e14": {
          "model_module": "@jupyter-widgets/controls",
          "model_module_version": "1.5.0",
          "model_name": "HTMLModel",
          "state": {
            "_dom_classes": [],
            "_model_module": "@jupyter-widgets/controls",
            "_model_module_version": "1.5.0",
            "_model_name": "HTMLModel",
            "_view_count": null,
            "_view_module": "@jupyter-widgets/controls",
            "_view_module_version": "1.5.0",
            "_view_name": "HTMLView",
            "description": "",
            "description_tooltip": null,
            "layout": "IPY_MODEL_5a884d1b00fc46c098c0d4cf74e80de0",
            "placeholder": "​",
            "style": "IPY_MODEL_e36b2cc2f12949d180a266302529e678",
            "value": "model.safetensors: 100%"
          }
        },
        "ed3de757865e49d090f893c7a2e221fc": {
          "model_module": "@jupyter-widgets/controls",
          "model_module_version": "1.5.0",
          "model_name": "HTMLModel",
          "state": {
            "_dom_classes": [],
            "_model_module": "@jupyter-widgets/controls",
            "_model_module_version": "1.5.0",
            "_model_name": "HTMLModel",
            "_view_count": null,
            "_view_module": "@jupyter-widgets/controls",
            "_view_module_version": "1.5.0",
            "_view_name": "HTMLView",
            "description": "",
            "description_tooltip": null,
            "layout": "IPY_MODEL_aec2eb90344f4abab2ebca80e67431d2",
            "placeholder": "​",
            "style": "IPY_MODEL_bc30b0e36ee94d7182a2a5d41e36cb7b",
            "value": "Map: 100%"
          }
        },
        "f72e5b1069db4ecda49173c4f1146e12": {
          "model_module": "@jupyter-widgets/controls",
          "model_module_version": "1.5.0",
          "model_name": "HBoxModel",
          "state": {
            "_dom_classes": [],
            "_model_module": "@jupyter-widgets/controls",
            "_model_module_version": "1.5.0",
            "_model_name": "HBoxModel",
            "_view_count": null,
            "_view_module": "@jupyter-widgets/controls",
            "_view_module_version": "1.5.0",
            "_view_name": "HBoxView",
            "box_style": "",
            "children": [
              "IPY_MODEL_ed3de757865e49d090f893c7a2e221fc",
              "IPY_MODEL_abfaaa6e80f04775ab710d878318c445",
              "IPY_MODEL_ccac8bdf729f47ed803736e9e6dc24f2"
            ],
            "layout": "IPY_MODEL_3d49ed3974a7478c9680ea5dcb30676c"
          }
        }
      }
    }
  },
  "nbformat": 4,
  "nbformat_minor": 0
}